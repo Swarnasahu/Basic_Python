{
 "cells": [
  {
   "cell_type": "markdown",
   "metadata": {},
   "source": [
    "# Tuple and Sets"
   ]
  },
  {
   "cell_type": "markdown",
   "metadata": {},
   "source": [
    "### Que 1. Write a Python program to add an item in a tuple."
   ]
  },
  {
   "cell_type": "code",
   "execution_count": 1,
   "metadata": {},
   "outputs": [
    {
     "name": "stdout",
     "output_type": "stream",
     "text": [
      "The Original tuple : (10, 20, 30, 40, 50)\n",
      "The Resultant Tuple after adding an Item : (10, 20, 30, 40, 50, 60)\n"
     ]
    }
   ],
   "source": [
    "# Solution\n",
    "\n",
    "# Create a tuple\n",
    "t = (10,20,30,40,50)\n",
    "print(\"The Original tuple :\",t) \n",
    "\n",
    "# tuples are immutable,we cannot add new element\n",
    "t = t + (60,)\n",
    "print(\"The Resultant Tuple after adding an Item :\",t)"
   ]
  },
  {
   "cell_type": "markdown",
   "metadata": {},
   "source": [
    "### Que 2. Write a Python program to reverse a tuple."
   ]
  },
  {
   "cell_type": "code",
   "execution_count": 2,
   "metadata": {},
   "outputs": [
    {
     "name": "stdout",
     "output_type": "stream",
     "text": [
      "(40, 1, 50, 10, 4, 9, 8, 7)\n"
     ]
    }
   ],
   "source": [
    "# Solution\n",
    "\n",
    "tuples = (7,8,9,4,10,50,1,40)\n",
    "revTuples = tuples[::-1]\n",
    "print(revTuples)\n"
   ]
  },
  {
   "cell_type": "markdown",
   "metadata": {},
   "source": [
    "### Que 3. Swap the following two tuples\n",
    "### tuple1 = (11, 22)\n",
    "### tuple2 = (99, 88)"
   ]
  },
  {
   "cell_type": "code",
   "execution_count": 3,
   "metadata": {},
   "outputs": [
    {
     "name": "stdout",
     "output_type": "stream",
     "text": [
      "tup1 = (99, 88)\n",
      "tup2 = (11, 22)\n"
     ]
    }
   ],
   "source": [
    "# Solution\n",
    "\n",
    "tup1 = (11,22)\n",
    "tup2 = (99,88)\n",
    "tup1,tup2 = tup2,tup1\n",
    " \n",
    "print('tup1 =',tup1)\n",
    "print('tup2 =',tup2)"
   ]
  },
  {
   "cell_type": "markdown",
   "metadata": {},
   "source": [
    "### Que 4. Modify the first item (22) of a list inside a following tuple to 222\n",
    "### tuple1 = (11, [22, 33], 44, 55)"
   ]
  },
  {
   "cell_type": "code",
   "execution_count": 4,
   "metadata": {},
   "outputs": [
    {
     "name": "stdout",
     "output_type": "stream",
     "text": [
      "The new tuple value are: (11, [222, 33], 44, 55)\n"
     ]
    }
   ],
   "source": [
    "# Solution\n",
    "\n",
    "tuple1 = (11, [22, 33], 44, 55)\n",
    "tuple1[1][0]=222\n",
    "print(\"The new tuple value are:\",tuple1)"
   ]
  },
  {
   "cell_type": "markdown",
   "metadata": {},
   "source": [
    "### Que 5. Write a Python program to unpack a tuple in several variables."
   ]
  },
  {
   "cell_type": "code",
   "execution_count": 5,
   "metadata": {},
   "outputs": [
    {
     "name": "stdout",
     "output_type": "stream",
     "text": [
      "v= 40 w= 50 x= 60 y= 70 z= 80\n"
     ]
    }
   ],
   "source": [
    "# Solution\n",
    "\n",
    "t = (40,50,60,70,80)\n",
    "v,w,x,y,z = t\n",
    "print(\"v=\",v,\"w=\",w,\"x=\",x,\"y=\",y,\"z=\",z)"
   ]
  },
  {
   "cell_type": "markdown",
   "metadata": {},
   "source": [
    "### Que 6. Write a Python program to add member(s) in an empty set."
   ]
  },
  {
   "cell_type": "code",
   "execution_count": 6,
   "metadata": {},
   "outputs": [
    {
     "name": "stdout",
     "output_type": "stream",
     "text": [
      "{1, 2}\n"
     ]
    }
   ],
   "source": [
    "# Solution\n",
    "\n",
    "d = {}\n",
    "d = set()\n",
    "d.update({1})\n",
    "d.add(2)\n",
    "print(d)"
   ]
  },
  {
   "cell_type": "markdown",
   "metadata": {},
   "source": [
    "### Que 7.Write a Python program to create an intersection of sets"
   ]
  },
  {
   "cell_type": "code",
   "execution_count": 7,
   "metadata": {},
   "outputs": [
    {
     "name": "stdout",
     "output_type": "stream",
     "text": [
      "Intersection of a and b sets : {4}\n"
     ]
    }
   ],
   "source": [
    "# Solution\n",
    "\n",
    "a = set([4,5])\n",
    "b = set([7,4])\n",
    "c = a & b\n",
    "print(\"Intersection of a and b sets :\",c)"
   ]
  },
  {
   "cell_type": "markdown",
   "metadata": {},
   "source": [
    "### Que 8. Write a Python program to create a symmetric difference in sets."
   ]
  },
  {
   "cell_type": "code",
   "execution_count": 8,
   "metadata": {},
   "outputs": [
    {
     "name": "stdout",
     "output_type": "stream",
     "text": [
      "{'Mtech', 'Btech'}\n"
     ]
    }
   ],
   "source": [
    "# Solution\n",
    "\n",
    "a = set([\"Mtech\", \"Signal Processing\"])\n",
    "b = set([\"Btech\", \"Signal Processing\"])\n",
    "c = a ^ b\n",
    "print(c)\n"
   ]
  },
  {
   "cell_type": "markdown",
   "metadata": {},
   "source": [
    "### Que 9. Return a set of identical items from a given two Python set\n",
    "### set1 = [10, 20, 30, 40, 50]\n",
    "### set2 = [30, 40, 50, 60, 70]"
   ]
  },
  {
   "cell_type": "code",
   "execution_count": 9,
   "metadata": {},
   "outputs": [
    {
     "name": "stdout",
     "output_type": "stream",
     "text": [
      "{40, 50, 30}\n"
     ]
    }
   ],
   "source": [
    "# Solution\n",
    "\n",
    "set1 = {10, 20, 30, 40, 50}\n",
    "set2 = {30, 40, 50, 60, 70}\n",
    "\n",
    "set3 = set1 & set2\n",
    "print(set3)"
   ]
  },
  {
   "cell_type": "markdown",
   "metadata": {},
   "source": [
    "### Que 10. Remove 10, 20, 30 elements from a following set at once\n",
    "### set1 = {10, 20, 30, 40, 50}"
   ]
  },
  {
   "cell_type": "code",
   "execution_count": 10,
   "metadata": {},
   "outputs": [
    {
     "name": "stdout",
     "output_type": "stream",
     "text": [
      "The Updated set is : {40, 50}\n"
     ]
    }
   ],
   "source": [
    "# Solution\n",
    "\n",
    "set1 = {10, 20, 30, 40, 50}\n",
    "set1.difference_update({10, 20, 30})\n",
    "print(\"The Updated set is :\",set1)"
   ]
  },
  {
   "cell_type": "markdown",
   "metadata": {},
   "source": [
    "### Que 11. Access value 20 from the following tuple\n",
    "### example = (\"Pooja\", [10, 20, 30], (25, 50, 15))"
   ]
  },
  {
   "cell_type": "code",
   "execution_count": 11,
   "metadata": {},
   "outputs": [
    {
     "data": {
      "text/plain": [
       "20"
      ]
     },
     "execution_count": 11,
     "metadata": {},
     "output_type": "execute_result"
    }
   ],
   "source": [
    "# Solution\n",
    "\n",
    "tup=(\"Pooja\", [10, 20, 30], (25, 50, 15))\n",
    "tup[1][1]"
   ]
  },
  {
   "cell_type": "markdown",
   "metadata": {},
   "source": [
    "### Que 12. Count the number of occurrences of item 50 from a tuple.\n",
    "### numbers = (50, 10, 60, 70, 50)"
   ]
  },
  {
   "cell_type": "code",
   "execution_count": 12,
   "metadata": {},
   "outputs": [
    {
     "name": "stdout",
     "output_type": "stream",
     "text": [
      "2\n"
     ]
    }
   ],
   "source": [
    "# Solution\n",
    "\n",
    "tuple1 = (50, 10, 60, 70, 50)\n",
    "print(tuple1.count(50))"
   ]
  },
  {
   "cell_type": "code",
   "execution_count": null,
   "metadata": {},
   "outputs": [],
   "source": []
  },
  {
   "cell_type": "code",
   "execution_count": null,
   "metadata": {},
   "outputs": [],
   "source": []
  }
 ],
 "metadata": {
  "kernelspec": {
   "display_name": "Python 3",
   "language": "python",
   "name": "python3"
  },
  "language_info": {
   "codemirror_mode": {
    "name": "ipython",
    "version": 3
   },
   "file_extension": ".py",
   "mimetype": "text/x-python",
   "name": "python",
   "nbconvert_exporter": "python",
   "pygments_lexer": "ipython3",
   "version": "3.7.4"
  }
 },
 "nbformat": 4,
 "nbformat_minor": 2
}
