{
 "cells": [
  {
   "cell_type": "markdown",
   "metadata": {},
   "source": [
    "# Dictionary Solutions"
   ]
  },
  {
   "cell_type": "markdown",
   "metadata": {},
   "source": [
    "### car = {\"brand\": \"Ford”, “model\":\"Mustang\",\"year\":1964}\n",
    "### 1. Print the value of the \"model\" key of the car dictionary."
   ]
  },
  {
   "cell_type": "code",
   "execution_count": 1,
   "metadata": {},
   "outputs": [
    {
     "name": "stdout",
     "output_type": "stream",
     "text": [
      "Mustang\n"
     ]
    }
   ],
   "source": [
    "# Solution\n",
    "\n",
    "car = {\"brand\": \"Ford\",\"model\": \"Mustang\",\"year\":1964}\n",
    "if \"model\" in car:\n",
    "    print(car[\"model\"])"
   ]
  },
  {
   "cell_type": "markdown",
   "metadata": {},
   "source": [
    "### Que 2. Change the \"year\" value from 1964 to 2020."
   ]
  },
  {
   "cell_type": "code",
   "execution_count": 2,
   "metadata": {},
   "outputs": [
    {
     "name": "stdout",
     "output_type": "stream",
     "text": [
      "{'brand': 'Ford', 'model': 'Mustang', 'year': 2020}\n"
     ]
    }
   ],
   "source": [
    "# Solution\n",
    "\n",
    "car = {\"brand\": \"Ford\",\"model\": \"Mustang\",\"year\":1964}\n",
    "car[\"year\"] = 2020\n",
    "print(car)"
   ]
  },
  {
   "cell_type": "markdown",
   "metadata": {},
   "source": [
    "### Que 3. Add the key/value pair \"colour”: \"red\" to the car dictionary"
   ]
  },
  {
   "cell_type": "code",
   "execution_count": 3,
   "metadata": {},
   "outputs": [
    {
     "name": "stdout",
     "output_type": "stream",
     "text": [
      "{'brand': 'Ford', 'model': 'Mustang', 'year': 1964}\n",
      "{'brand': 'Ford', 'model': 'Mustang', 'year': 1964, 'colour': 'red'}\n"
     ]
    }
   ],
   "source": [
    "# Solution\n",
    "\n",
    "car = {\"brand\": \"Ford\",\"model\" : \"Mustang\",\"year\":1964}\n",
    "print(car)\n",
    "\n",
    "car[\"colour\"] = \"red\"\n",
    "print(car)\n"
   ]
  },
  {
   "cell_type": "markdown",
   "metadata": {},
   "source": [
    "### Given a dictionary inventory :\n",
    "inventory = {'gold' : 500, 'pouch' : ['flint', 'twine', 'gemstone'],\n",
    "\n",
    "'backpack' : ['xylophone’, ‘dagger', 'bedroll’, ‘bread’, ‘loaf']}"
   ]
  },
  {
   "cell_type": "markdown",
   "metadata": {},
   "source": [
    "### Que 4. Add a key to inventory called 'pocket' and Set the value of 'pocket' to be a list consisting of the strings 'seashell', 'strangeberry', and 'lint'."
   ]
  },
  {
   "cell_type": "code",
   "execution_count": 4,
   "metadata": {},
   "outputs": [
    {
     "name": "stdout",
     "output_type": "stream",
     "text": [
      "The Original dictionary is:\n",
      "  {'gold': 500, 'pouch': ['flint', 'twine', 'gemstone'], 'backpack': ['xylophone', 'dagger', 'bedroll', 'bread', 'loaf']}\n",
      "After Adding The Keys into Original Dict,The New Dictionary Should be:\n",
      " {'gold': 500, 'pouch': ['flint', 'twine', 'gemstone'], 'backpack': ['xylophone', 'dagger', 'bedroll', 'bread', 'loaf'], 'pocket': ['seashell', 'starngeberry', 'lint']}\n"
     ]
    }
   ],
   "source": [
    "# solution\n",
    "\n",
    "inventory = {'gold' : 500, 'pouch' : ['flint', 'twine', 'gemstone'],'backpack' : ['xylophone', 'dagger', 'bedroll', 'bread', 'loaf']}\n",
    "print(\"The Original dictionary is:\\n \",inventory)\n",
    "\n",
    "inventory[\"pocket\"] = [\"seashell\",\"starngeberry\",\"lint\"]\n",
    "print(\"After Adding The Keys into Original Dict,The New Dictionary Should be:\\n\",inventory)"
   ]
  },
  {
   "cell_type": "markdown",
   "metadata": {},
   "source": [
    "### Que5. Sort the items in the list stored under the 'backpack' key."
   ]
  },
  {
   "cell_type": "code",
   "execution_count": 5,
   "metadata": {},
   "outputs": [
    {
     "name": "stdout",
     "output_type": "stream",
     "text": [
      "['bedroll', 'bread', 'dagger', 'loaf', 'xylophone']\n"
     ]
    }
   ],
   "source": [
    "# Solution\n",
    "\n",
    "d=inventory['backpack']\n",
    "print(sorted(d))"
   ]
  },
  {
   "cell_type": "markdown",
   "metadata": {},
   "source": [
    "### Que 6. Remove 'dagger' from the list of items stored under the'backpack' key."
   ]
  },
  {
   "cell_type": "code",
   "execution_count": 6,
   "metadata": {},
   "outputs": [
    {
     "name": "stdout",
     "output_type": "stream",
     "text": [
      "['xylophone', 'bedroll', 'bread', 'loaf']\n"
     ]
    }
   ],
   "source": [
    "# Solution\n",
    "\n",
    "d.remove('dagger')\n",
    "print(d)"
   ]
  },
  {
   "cell_type": "markdown",
   "metadata": {},
   "source": [
    "### Que 7. Add 50 to the number stored under the 'gold' key."
   ]
  },
  {
   "cell_type": "code",
   "execution_count": 7,
   "metadata": {},
   "outputs": [
    {
     "data": {
      "text/plain": [
       "{'gold': [500, 50]}"
      ]
     },
     "execution_count": 7,
     "metadata": {},
     "output_type": "execute_result"
    }
   ],
   "source": [
    "# Solutions\n",
    "\n",
    "d=inventory['gold']\n",
    "d\n",
    "d = [500]\n",
    "d.append(50)\n",
    "d\n",
    "dict={'gold':d}\n",
    "dict"
   ]
  },
  {
   "cell_type": "markdown",
   "metadata": {},
   "source": [
    "### Que 8. Write a Python script to concatenate three dictionaries to create a new one. Make dictionaries yourself."
   ]
  },
  {
   "cell_type": "code",
   "execution_count": 8,
   "metadata": {},
   "outputs": [
    {
     "name": "stdout",
     "output_type": "stream",
     "text": [
      "Dictionary 4 is : {'swarna': 'Mtech', 'Shreya': 'Btech', 'priya': 'MCA', 'Physics': '80', 'Math': '90', 'Biology': '85', 'Odisha': 'Bhubaneswar', 'Telengana': 'Hyderabad', 'WestBengal': 'Kolkota'}\n"
     ]
    }
   ],
   "source": [
    "# Solution\n",
    "\n",
    "d1 = {'swarna':'Mtech','Shreya':'Btech','priya':'MCA'}\n",
    "d2 = {'Physics':'80','Math':'90','Biology':'85'}\n",
    "d3 = {'Odisha':'Bhubaneswar','Telengana':'Hyderabad','WestBengal':'Kolkota'}\n",
    "\n",
    "d4 = {**d1, **d2, **d3}\n",
    "\n",
    "print('Dictionary 4 is :',d4)"
   ]
  },
  {
   "cell_type": "markdown",
   "metadata": {},
   "source": [
    "### Que 9.Write a Python program to sum all the items in a dictionary."
   ]
  },
  {
   "cell_type": "code",
   "execution_count": 9,
   "metadata": {},
   "outputs": [
    {
     "name": "stdout",
     "output_type": "stream",
     "text": [
      "Enter a dictionary :{\"Math\":100,\"Eng\":100,\"Physics\":100}\n",
      "Sum= 300\n"
     ]
    }
   ],
   "source": [
    "# Solution\n",
    "\n",
    "d = eval(input(\"Enter a dictionary :\"))\n",
    "s = sum(d.values())\n",
    "print(\"Sum=\",s)\n"
   ]
  },
  {
   "cell_type": "markdown",
   "metadata": {},
   "source": [
    "### Que 10. Write a Python script to check whether a given key already exists in a dictionary.\n",
    "#### d = {'foo': 100, 'bar': 200, 'baz': 300}"
   ]
  },
  {
   "cell_type": "code",
   "execution_count": 10,
   "metadata": {},
   "outputs": [
    {
     "name": "stdout",
     "output_type": "stream",
     "text": [
      "Dictionary : {'foo': 100, 'bar': 200, 'baz': 300}\n",
      "Enter the key as your choice :zoo\n",
      "\n",
      "Key does not exist in a dictionary\n"
     ]
    }
   ],
   "source": [
    "# Solution\n",
    "\n",
    "d = {'foo': 100, 'bar': 200, 'baz': 300}\n",
    "print(\"Dictionary :\",d)\n",
    "key = input(\"Enter the key as your choice :\")\n",
    "\n",
    "# Check Whether the Given key exists in a Dictionary or Not\n",
    "if key in d.keys():\n",
    "    print('\\nKey already exist in a dictionary')\n",
    "else:\n",
    "    print('\\nKey does not exist in a dictionary')\n"
   ]
  },
  {
   "cell_type": "markdown",
   "metadata": {},
   "source": [
    "### Que 11.What method call will delete the entry whose value is 200?"
   ]
  },
  {
   "cell_type": "code",
   "execution_count": 11,
   "metadata": {},
   "outputs": [
    {
     "data": {
      "text/plain": [
       "{'foo': 100, 'baz': 300}"
      ]
     },
     "execution_count": 11,
     "metadata": {},
     "output_type": "execute_result"
    }
   ],
   "source": [
    "# Solution\n",
    "\n",
    "d = {'foo': 100, 'bar': 200, 'baz': 300}\n",
    "del d['bar']\n",
    "d"
   ]
  },
  {
   "cell_type": "markdown",
   "metadata": {},
   "source": [
    "### Que 12. Write a Python program to check multiple keys exists in a dictionary."
   ]
  },
  {
   "cell_type": "code",
   "execution_count": 12,
   "metadata": {},
   "outputs": [
    {
     "name": "stdout",
     "output_type": "stream",
     "text": [
      "Keys are present\n",
      "keys are not present\n"
     ]
    }
   ],
   "source": [
    "# Solutions\n",
    "\n",
    "d1 = {'Swarna':'Mtech','City':'Hyderabad','Proffession':'Data Scientist'}\n",
    "if all(key in d1 for key in ('Swarna','City','Proffession')):\n",
    "    print(\"Keys are present\")\n",
    "else:\n",
    "    print(\"keys are not present\")\n",
    "    \n",
    "if all(key in d1 for key in ('Swarna','City','Designation')):\n",
    "    print(\"Keys are present\")\n",
    "else:\n",
    "    print(\"keys are not present\")\n",
    "    \n",
    "    "
   ]
  },
  {
   "cell_type": "code",
   "execution_count": null,
   "metadata": {},
   "outputs": [],
   "source": []
  },
  {
   "cell_type": "code",
   "execution_count": null,
   "metadata": {},
   "outputs": [],
   "source": []
  }
 ],
 "metadata": {
  "kernelspec": {
   "display_name": "Python 3",
   "language": "python",
   "name": "python3"
  },
  "language_info": {
   "codemirror_mode": {
    "name": "ipython",
    "version": 3
   },
   "file_extension": ".py",
   "mimetype": "text/x-python",
   "name": "python",
   "nbconvert_exporter": "python",
   "pygments_lexer": "ipython3",
   "version": "3.7.4"
  }
 },
 "nbformat": 4,
 "nbformat_minor": 2
}
