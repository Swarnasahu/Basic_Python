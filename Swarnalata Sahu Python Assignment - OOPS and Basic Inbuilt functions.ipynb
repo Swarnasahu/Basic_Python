{
 "cells": [
  {
   "cell_type": "markdown",
   "metadata": {},
   "source": [
    "# Built-In Function Assignment"
   ]
  },
  {
   "cell_type": "markdown",
   "metadata": {},
   "source": [
    "### Que1. What would be the output of the following:\n",
    "mylist = ['apple', 'banana', 'cherry']\n",
    "\n",
    "x =frozenset(mylist) \n",
    "\n",
    "x[1] = \"strawberry\" "
   ]
  },
  {
   "cell_type": "markdown",
   "metadata": {},
   "source": [
    "### Ans: TypeError: 'frozenset' object does not support item assignment\n",
    "### When We use frozenset it will be immutable."
   ]
  },
  {
   "cell_type": "markdown",
   "metadata": {},
   "source": [
    "### Que2. Print ‘Hi’ n times where n is the user input. "
   ]
  },
  {
   "cell_type": "code",
   "execution_count": 1,
   "metadata": {},
   "outputs": [
    {
     "name": "stdout",
     "output_type": "stream",
     "text": [
      "Enter a number:10\n",
      "Hi\n",
      "Hi\n",
      "Hi\n",
      "Hi\n",
      "Hi\n",
      "Hi\n",
      "Hi\n",
      "Hi\n",
      "Hi\n",
      "Hi\n"
     ]
    }
   ],
   "source": [
    "#Solution\n",
    "\n",
    "n = int(input(\"Enter a number:\"))\n",
    "for i in range(n):\n",
    "    print(\"Hi\")\n",
    "\n",
    "# n=int(input(\"Enter the number of times\"))\n",
    "# r = \"Hi\"*n\n",
    "# print(r)"
   ]
  },
  {
   "cell_type": "markdown",
   "metadata": {},
   "source": [
    "### Que3. Convert the following tuple into dictionary: tuplex = ((2, \"w\"),(3, \"r\"))  "
   ]
  },
  {
   "cell_type": "code",
   "execution_count": 2,
   "metadata": {},
   "outputs": [
    {
     "name": "stdout",
     "output_type": "stream",
     "text": [
      "{'w': 2, 'r': 3}\n"
     ]
    }
   ],
   "source": [
    "# Solution\n",
    "\n",
    "tuplex = ((2, \"w\"),(3,\"r\"))\n",
    "print(dict((y,x) for x,y in tuplex))"
   ]
  },
  {
   "cell_type": "markdown",
   "metadata": {},
   "source": [
    "### Que4. Write a function that prints square of the Maximum and Minimum numbers from a list. \n",
    " "
   ]
  },
  {
   "cell_type": "code",
   "execution_count": 3,
   "metadata": {},
   "outputs": [
    {
     "name": "stdout",
     "output_type": "stream",
     "text": [
      "(4225, 100)\n"
     ]
    }
   ],
   "source": [
    "# Solution\n",
    "\n",
    "def max_min(data):\n",
    "    \n",
    "    x = data[0]\n",
    "    y = data[0]\n",
    "    for num in data:\n",
    "        if num > x:\n",
    "            x = num\n",
    "        elif num < y:\n",
    "            y = num\n",
    "    return x**2, y**2\n",
    "\n",
    "print(max_min([0, 8, 5, 20, -10, 17, 25, 43, 65]))\n"
   ]
  },
  {
   "cell_type": "markdown",
   "metadata": {},
   "source": [
    "### Que5. Convert the list items into binary. lis = [4,5,7,1,2] "
   ]
  },
  {
   "cell_type": "code",
   "execution_count": 4,
   "metadata": {},
   "outputs": [
    {
     "data": {
      "text/plain": [
       "['0b100', '0b101', '0b111', '0b10']"
      ]
     },
     "execution_count": 4,
     "metadata": {},
     "output_type": "execute_result"
    }
   ],
   "source": [
    "# Solution\n",
    "\n",
    "lis = [4,5,7,2]\n",
    "\n",
    "lis1 = []\n",
    "\n",
    "for i in lis:\n",
    "    \n",
    "    bin(i)\n",
    "    \n",
    "    lis1.append(bin(i))\n",
    "    \n",
    "lis1"
   ]
  },
  {
   "cell_type": "markdown",
   "metadata": {},
   "source": [
    "### Que6.Take 3 inputs from a user and check :\n",
    "\n",
    "i) All are equal\n",
    "\n",
    "ii) Any of two are equal"
   ]
  },
  {
   "cell_type": "code",
   "execution_count": 5,
   "metadata": {},
   "outputs": [
    {
     "name": "stdout",
     "output_type": "stream",
     "text": [
      "Any Two Inputed Numbers are Equal\n"
     ]
    }
   ],
   "source": [
    "# Solution\n",
    "\n",
    "def comp_no(x,y,z):\n",
    "    \n",
    "    if x == y == z:\n",
    "        print(\"All Inputed Numbers are Equal\")\n",
    "    \n",
    "    elif x == y or y == z or z == x:\n",
    "        print(\"Any Two Inputed Numbers are Equal\")\n",
    "    \n",
    "\n",
    "comp_no(5,5,7)"
   ]
  },
  {
   "cell_type": "markdown",
   "metadata": {},
   "source": [
    "### Que7. Combine second letters of the two strings in the following using reduce().          string1 = [‘Hello’,’Bye’]          output should be ‘ey’ "
   ]
  },
  {
   "cell_type": "code",
   "execution_count": 6,
   "metadata": {},
   "outputs": [
    {
     "data": {
      "text/plain": [
       "'ey'"
      ]
     },
     "execution_count": 6,
     "metadata": {},
     "output_type": "execute_result"
    }
   ],
   "source": [
    "#Solution\n",
    "\n",
    "from functools import*\n",
    "\n",
    "string1 = ['Hello','Bye']\n",
    "\n",
    "result = reduce(lambda x, y: x[1]+y[1],string1)\n",
    "\n",
    "result"
   ]
  },
  {
   "cell_type": "markdown",
   "metadata": {},
   "source": [
    "### Que8.Write a Python program to sort a list of dictionaries using Lambda."
   ]
  },
  {
   "cell_type": "code",
   "execution_count": 7,
   "metadata": {},
   "outputs": [
    {
     "name": "stdout",
     "output_type": "stream",
     "text": [
      "Original List of dictionaries :\n",
      "[{'name': 'Swarna', 'city': 'Bhubaneswar', 'proffession': 'Developer'}, {'name': 'Swapna', 'city': 'Mumbai', 'proffession': 'Project Manager'}, {'name': 'Damodhar', 'city': 'Hyderabad', 'proffession': 'Senior Manager'}, {'name': 'Jay', 'city': 'Delhi', 'proffession': 'Data Analyst'}]\n",
      "\n",
      "Sorting the List of dictionaries :\n",
      "[{'name': 'Jay', 'city': 'Delhi', 'proffession': 'Data Analyst'}, {'name': 'Swarna', 'city': 'Bhubaneswar', 'proffession': 'Developer'}, {'name': 'Swapna', 'city': 'Mumbai', 'proffession': 'Project Manager'}, {'name': 'Damodhar', 'city': 'Hyderabad', 'proffession': 'Senior Manager'}]\n"
     ]
    }
   ],
   "source": [
    "#Solution\n",
    "\n",
    "list_dict = [{'name':'Swarna','city':'Bhubaneswar',\"proffession\":\"Developer\"},{'name':'Swapna','city':'Mumbai','proffession':'Project Manager'},{'name':'Damodhar','city':'Hyderabad','proffession':'Senior Manager'},{'name':'Jay','city':'Delhi','proffession':'Data Analyst'}]\n",
    "print(\"Original List of dictionaries :\")\n",
    "\n",
    "print(list_dict)\n",
    "\n",
    "sorted_list_dict = sorted(list_dict,key = lambda x: x['proffession'])\n",
    "\n",
    "print(\"\\nSorting the List of dictionaries :\")\n",
    "\n",
    "print(sorted_list_dict)"
   ]
  },
  {
   "cell_type": "markdown",
   "metadata": {},
   "source": [
    "### Que9. Create a list a=[1,2,3,4,5,6,7,8,9,10] and use map() and filter() to check if the list contains odd number(s) and square them. \n",
    " \n"
   ]
  },
  {
   "cell_type": "code",
   "execution_count": 8,
   "metadata": {},
   "outputs": [
    {
     "name": "stdout",
     "output_type": "stream",
     "text": [
      "[1, 3, 5, 7, 9]\n",
      "[1, 9, 25, 49, 81]\n"
     ]
    }
   ],
   "source": [
    "# solution\n",
    "\n",
    "a = [1,2,3,4,5,6,7,8,9,10]\n",
    "a1 = list(filter(lambda x:x%2!=0,a))\n",
    "\n",
    "print(a1)\n",
    "\n",
    "a1 = list(map(lambda x:x**2,a1))\n",
    "print(a1)\n",
    "\n",
    "\n",
    "# a = [1, 2, 3, 4, 5, 6,7,8,9,10]\n",
    "# list(filter(lambda x : x % 2 != 0,map(lambda x : x**2,a)))"
   ]
  },
  {
   "cell_type": "markdown",
   "metadata": {},
   "source": [
    "### Que10. From the following list take 2 as a step parameter in range() and reverse the list you get. \n",
    "a = [‘a’,1,2,’b’,’c’,3,4,5,6]"
   ]
  },
  {
   "cell_type": "code",
   "execution_count": 9,
   "metadata": {},
   "outputs": [
    {
     "data": {
      "text/plain": [
       "[6, 4, 'c', 2, 'a']"
      ]
     },
     "execution_count": 9,
     "metadata": {},
     "output_type": "execute_result"
    }
   ],
   "source": [
    "#Solution\n",
    "\n",
    "a = ['a',1,2,'b','c',3,4,5,6]\n",
    "\n",
    "l = []\n",
    "\n",
    "for i in range(0,len(a),2): # start,stop,step\n",
    "    l.append(a[i])\n",
    "l[::-1]"
   ]
  },
  {
   "cell_type": "markdown",
   "metadata": {},
   "source": [
    "# Oops Assignment"
   ]
  },
  {
   "cell_type": "markdown",
   "metadata": {},
   "source": [
    "### Que.1.Create an empty class "
   ]
  },
  {
   "cell_type": "code",
   "execution_count": 10,
   "metadata": {},
   "outputs": [],
   "source": [
    "# Solution\n",
    "\n",
    "class Student:\n",
    "    pass"
   ]
  },
  {
   "cell_type": "markdown",
   "metadata": {},
   "source": [
    "class Dog:  \n",
    "\n",
    "     species = \"Canis familiaris\" \n",
    "    \n",
    "        def __init__(self, name, age):  \n",
    "        \n",
    "             self.name = name  \n",
    "             \n",
    "            self.age = age  \n",
    "            \n",
    "buddy = Dog(\"Buddy\", 9) \n",
    "\n",
    "miles = Dog(\"Miles\", 4) \n",
    "\n",
    "### Que2. Given the Dog class above retrieve the ​Object and class attributes​. "
   ]
  },
  {
   "cell_type": "code",
   "execution_count": 11,
   "metadata": {},
   "outputs": [
    {
     "name": "stdout",
     "output_type": "stream",
     "text": [
      "{'name': 'Buddy', 'age': 9}\n",
      "{'name': 'Miles', 'age': 4}\n",
      "Canis familiaris\n"
     ]
    }
   ],
   "source": [
    "#Solution\n",
    "\n",
    "class Dog:\n",
    "    species = \"Canis familiaris\"\n",
    "    def __init__(self,name,age):\n",
    "        self.name = name\n",
    "        self.age = age\n",
    "        \n",
    "buddy = Dog(\"Buddy\",9)\n",
    "miles = Dog(\"Miles\",4)\n",
    "\n",
    "print(buddy.__dict__)\n",
    "print(miles.__dict__)\n",
    "print(Dog.species)\n",
    "        \n"
   ]
  },
  {
   "cell_type": "markdown",
   "metadata": {},
   "source": [
    "### Que3. Write a Python class named Circle constructed by a radius and two methods which will compute the area and the perimeter of a circle. "
   ]
  },
  {
   "cell_type": "code",
   "execution_count": 12,
   "metadata": {},
   "outputs": [
    {
     "name": "stdout",
     "output_type": "stream",
     "text": [
      "153.86\n",
      "43.96\n"
     ]
    }
   ],
   "source": [
    "# Solution\n",
    "\n",
    "class Circle:\n",
    "    \n",
    "    def __init__(self,r):\n",
    "        \n",
    "        self.radius = r\n",
    "    \n",
    "    def area(self):\n",
    "        \n",
    "        return self.radius**2*3.14\n",
    "    \n",
    "    def perimeter(self):\n",
    "        \n",
    "        return 2*self.radius*3.14\n",
    "    \n",
    "\n",
    "Circle1 = Circle(7)\n",
    "print(Circle1.area())\n",
    "print(Circle1.perimeter())\n",
    "    "
   ]
  },
  {
   "cell_type": "markdown",
   "metadata": {},
   "source": [
    "### Que4. Write a Python class to reverse a string word by word.  For example: Input string : 'hello world' Expected Output : 'world hello' "
   ]
  },
  {
   "cell_type": "code",
   "execution_count": 13,
   "metadata": {},
   "outputs": [
    {
     "name": "stdout",
     "output_type": "stream",
     "text": [
      "world hello\n"
     ]
    }
   ],
   "source": [
    "#Solution\n",
    "\n",
    "class python_class:\n",
    "    \n",
    "    def reverse_string(self,s):\n",
    "        return ' '.join(reversed(s.split()))\n",
    "    \n",
    "print(python_class().reverse_string('hello  world'))"
   ]
  },
  {
   "cell_type": "markdown",
   "metadata": {},
   "source": [
    "### Que5. Create a Student class and initialize it with name and roll number. Make methods to :             \n",
    "\n",
    "i) Display - It should display all information of the student.             \n",
    "\n",
    "ii)setAge - It should assign age to student              \n",
    "\n",
    "iii) setMarks - It should assign marks to the student."
   ]
  },
  {
   "cell_type": "code",
   "execution_count": 1,
   "metadata": {},
   "outputs": [
    {
     "name": "stdout",
     "output_type": "stream",
     "text": [
      "Student name is Swarna\n",
      "Student Roll is 21\n",
      "Student age is 30\n",
      "Student marks is 85\n"
     ]
    }
   ],
   "source": [
    "# Solution\n",
    "\n",
    "class Student:\n",
    "    \n",
    "    def __init__(self,name=None,rno=None,age=None,marks=None):\n",
    "        \n",
    "        self.name=name\n",
    "        self.age=age\n",
    "        self.rno=rno\n",
    "        self.marks=marks\n",
    "        \n",
    "    def setAge(self,age): \n",
    "        self.age=age\n",
    "        \n",
    "    def setMarks(self,marks):\n",
    "        \n",
    "        self.marks=marks\n",
    "        \n",
    "    def Display(self):\n",
    "        \n",
    "        print(\"Student name is\",self.name)\n",
    "        print(\"Student Roll is\",self.rno)\n",
    "        print(\"Student age is\",self.age)\n",
    "        print(\"Student marks is\",self.marks)\n",
    "        \n",
    "        \n",
    "std=Student(\"Swarna\",21)\n",
    "std.setAge(30)\n",
    "std.setMarks(85)\n",
    "std.Display()"
   ]
  },
  {
   "cell_type": "markdown",
   "metadata": {},
   "source": [
    "### Que6. Write a Python class named Rectangle constructed by a length and width and a method which will compute the area of a rectangle. "
   ]
  },
  {
   "cell_type": "code",
   "execution_count": 15,
   "metadata": {},
   "outputs": [
    {
     "name": "stdout",
     "output_type": "stream",
     "text": [
      "30\n"
     ]
    }
   ],
   "source": [
    "# Solution\n",
    "\n",
    "class Rectangle:\n",
    "    \n",
    "    def __init__(self,l,w):\n",
    "        self.length = l\n",
    "        self.width = w\n",
    "        \n",
    "    def rectangle_area(self):  # Compute the area of Rectangle\n",
    "        return self.length*self.width\n",
    "    \n",
    "Rectangle_New = Rectangle(5,6) # length & width both are assigned\n",
    "print(Rectangle_New.rectangle_area())\n",
    "    "
   ]
  },
  {
   "cell_type": "code",
   "execution_count": null,
   "metadata": {},
   "outputs": [],
   "source": []
  },
  {
   "cell_type": "code",
   "execution_count": null,
   "metadata": {},
   "outputs": [],
   "source": []
  }
 ],
 "metadata": {
  "kernelspec": {
   "display_name": "Python 3",
   "language": "python",
   "name": "python3"
  },
  "language_info": {
   "codemirror_mode": {
    "name": "ipython",
    "version": 3
   },
   "file_extension": ".py",
   "mimetype": "text/x-python",
   "name": "python",
   "nbconvert_exporter": "python",
   "pygments_lexer": "ipython3",
   "version": "3.7.4"
  }
 },
 "nbformat": 4,
 "nbformat_minor": 2
}
