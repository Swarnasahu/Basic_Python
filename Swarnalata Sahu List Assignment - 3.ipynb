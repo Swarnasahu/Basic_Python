{
 "cells": [
  {
   "cell_type": "markdown",
   "metadata": {},
   "source": [
    "# Lists Solutions:"
   ]
  },
  {
   "cell_type": "markdown",
   "metadata": {},
   "source": [
    "### Que 1. City = [‘Gurgaon’, ’Mumbai’, ’Bangalore’]\n",
    "#### i) Print the second item from the list.\n",
    "#### ii) Change the value from \"Gurgaon\" to \"Kerala\"\n",
    "#### iii) Remove the last element of the list."
   ]
  },
  {
   "cell_type": "code",
   "execution_count": 1,
   "metadata": {},
   "outputs": [
    {
     "name": "stdout",
     "output_type": "stream",
     "text": [
      "The Second item in the list is : Mumbai\n",
      "The new list is : ['Kerala', 'Mumbai', 'Bangalore']\n",
      "The New list is : ['Kerala', 'Mumbai']\n"
     ]
    }
   ],
   "source": [
    "# Solution\n",
    "\n",
    "city = ['Gurgaon', 'Mumbai', 'Bangalore']\n",
    "print(\"The Second item in the list is :\",city[1])\n",
    "\n",
    "city [0] = 'Kerala'\n",
    "print(\"The new list is :\",city)\n",
    "\n",
    "city.pop()\n",
    "print(\"The New list is :\",city)"
   ]
  },
  {
   "cell_type": "markdown",
   "metadata": {},
   "source": [
    "### Que 2. Use negative indexing to print the last item in the list. Make a list by yourself."
   ]
  },
  {
   "cell_type": "code",
   "execution_count": 2,
   "metadata": {},
   "outputs": [
    {
     "data": {
      "text/plain": [
       "'Subash'"
      ]
     },
     "execution_count": 2,
     "metadata": {},
     "output_type": "execute_result"
    }
   ],
   "source": [
    "# Solution\n",
    "\n",
    "lst=['Swarna','Lata','Shreya','Loney','Jay','Sarojini','Subash']\n",
    "lst[-1]"
   ]
  },
  {
   "cell_type": "markdown",
   "metadata": {},
   "source": [
    "### Que 3. Use a range of indexes to print the third, fourth, and fifth item in the list. Make a list by yourself."
   ]
  },
  {
   "cell_type": "code",
   "execution_count": 3,
   "metadata": {},
   "outputs": [
    {
     "data": {
      "text/plain": [
       "['Loney', 'Jay', 'Sarojini', 'Subash']"
      ]
     },
     "execution_count": 3,
     "metadata": {},
     "output_type": "execute_result"
    }
   ],
   "source": [
    "# Solution\n",
    "\n",
    "lst = ['Swarna','Lata','Shreya','Loney','Jay','Sarojini','Subash']\n",
    "lst[3:7]"
   ]
  },
  {
   "cell_type": "markdown",
   "metadata": {},
   "source": [
    "### Que 4. Remove the last element from the city list"
   ]
  },
  {
   "cell_type": "code",
   "execution_count": 4,
   "metadata": {},
   "outputs": [
    {
     "name": "stdout",
     "output_type": "stream",
     "text": [
      "The New List is : ['Gurgaon', 'Mumbai']\n"
     ]
    }
   ],
   "source": [
    "# Solution\n",
    "\n",
    "city = ['Gurgaon', 'Mumbai', 'Bangalore']\n",
    "city.pop()\n",
    "print(\"The New List is :\",city)"
   ]
  },
  {
   "cell_type": "markdown",
   "metadata": {},
   "source": [
    "### Que 5. fruits=[‘apple’,’lichi’,’guava’,’cherry’,’mango’,’watermelon’,’banana’]\n",
    "\n",
    " #### i) Add \"orange\" at the end of the above list.\n",
    "\n",
    "#### ii) Add \"lemon\" as the second item in the fruits list"
   ]
  },
  {
   "cell_type": "code",
   "execution_count": 5,
   "metadata": {},
   "outputs": [
    {
     "name": "stdout",
     "output_type": "stream",
     "text": [
      "After adding the new element in the List:\n",
      " ['apple', 'lichi', 'guava', 'cherry', 'mango', 'watermelon', 'banana', 'orange']\n",
      "As we have added lemon as second item in the List:\n",
      " ['apple', 'lichi', 'lemon', 'guava', 'cherry', 'mango', 'watermelon', 'banana', 'orange']\n"
     ]
    }
   ],
   "source": [
    "# Solution\n",
    "\n",
    "fruits = ['apple','lichi','guava','cherry','mango','watermelon','banana']\n",
    "fruits.append(\"orange\")\n",
    "print(\"After adding the new element in the List:\\n\",fruits)\n",
    "\n",
    "fruits.insert(2,\"lemon\")\n",
    "print(\"As we have added lemon as second item in the List:\\n\",fruits)"
   ]
  },
  {
   "cell_type": "markdown",
   "metadata": {},
   "source": [
    "### Que 6. Remove ‘cherry’ from the fruit list given above."
   ]
  },
  {
   "cell_type": "code",
   "execution_count": 6,
   "metadata": {},
   "outputs": [
    {
     "name": "stdout",
     "output_type": "stream",
     "text": [
      "After deleting Cherry from the list the new list will be:\n",
      "  ['apple', 'lichi', 'guava', 'mango', 'watermelon', 'banana']\n"
     ]
    }
   ],
   "source": [
    "# Solution\n",
    "\n",
    "fruits = ['apple','lichi','guava','cherry','mango','watermelon','banana']\n",
    "fruits.remove(\"cherry\")\n",
    "\n",
    "print(\"After deleting Cherry from the list the new list will be:\\n \",fruits)"
   ]
  },
  {
   "cell_type": "markdown",
   "metadata": {},
   "source": [
    "### Que 7. Write the python program to let the user input a list of numbers and print the list in descending order."
   ]
  },
  {
   "cell_type": "code",
   "execution_count": 7,
   "metadata": {},
   "outputs": [
    {
     "name": "stdout",
     "output_type": "stream",
     "text": [
      "Enter number of elements : 5\n",
      "Enter the elements :5\n",
      "Enter the elements :8\n",
      "Enter the elements :4\n",
      "Enter the elements :9\n",
      "Enter the elements :7\n",
      "After Descending the new list is: [9, 8, 7, 5, 4]\n"
     ]
    }
   ],
   "source": [
    "# Solution\n",
    "\n",
    "lst = []\n",
    "n = int(input(\"Enter number of elements : \"))\n",
    "for i in range(0, n):\n",
    "            ele = int(input(\"Enter the elements :\"))\n",
    "            lst.append(ele)\n",
    "            lst.sort(reverse=True)\n",
    "print(\"After Descending the new list is:\",lst)"
   ]
  },
  {
   "cell_type": "markdown",
   "metadata": {},
   "source": [
    "### Que 8. Write the python program to let the user input two lists and combine both the lists."
   ]
  },
  {
   "cell_type": "code",
   "execution_count": 8,
   "metadata": {},
   "outputs": [
    {
     "name": "stdout",
     "output_type": "stream",
     "text": [
      "Enter number of elements:4\n",
      "Enter element:5\n",
      "Enter element:7\n",
      "Enter element:8\n",
      "Enter element:9\n",
      "Enter number of elements:7\n",
      "Enter element:55\n",
      "Enter element:8\n",
      "Enter element:4\n",
      "Enter element:66\n",
      "Enter element:67\n",
      "Enter element:43\n",
      "Enter element:31\n",
      "The New List is : [5, 7, 8, 9, 55, 8, 4, 66, 67, 43, 31]\n"
     ]
    }
   ],
   "source": [
    "# Solution\n",
    "\n",
    "l1=[]\n",
    "l2=[]\n",
    "\n",
    "n1=int(input(\"Enter number of elements:\"))\n",
    "for i in range(1,n1+1):\n",
    "    b=int(input(\"Enter element:\"))\n",
    "    l1.append(b)\n",
    "    \n",
    "n2=int(input(\"Enter number of elements:\"))\n",
    "for i in range(1,n2+1):\n",
    "    d=int(input(\"Enter element:\"))\n",
    "    l2.append(d)\n",
    "new = l1 + l2\n",
    "print(\"The New List is :\",new)"
   ]
  },
  {
   "cell_type": "markdown",
   "metadata": {},
   "source": [
    "### Que 9. List = [10, 45, 78, 11, 9, 23]. Shuffle this list."
   ]
  },
  {
   "cell_type": "code",
   "execution_count": 9,
   "metadata": {},
   "outputs": [
    {
     "name": "stdout",
     "output_type": "stream",
     "text": [
      "After Shuffled the new list is : [23, 11, 10, 45, 9, 78]\n"
     ]
    }
   ],
   "source": [
    "# Solution\n",
    "\n",
    "import random\n",
    "\n",
    "lst = [10,45,78,11,9,23]\n",
    "random.shuffle(lst)\n",
    "print(\"After Shuffled the new list is :\",lst)"
   ]
  },
  {
   "cell_type": "markdown",
   "metadata": {},
   "source": [
    "### Que 10. x = [10, [3.141, 20, [30, 'baz', 2.718]], 'foo']\n",
    "i) What is the expression that returns the 'z' in 'baz'?\n",
    "\n",
    "ii) What expression returns the list ['baz', 2.718]?"
   ]
  },
  {
   "cell_type": "code",
   "execution_count": 10,
   "metadata": {},
   "outputs": [
    {
     "name": "stdout",
     "output_type": "stream",
     "text": [
      "z\n",
      "['baz', 2.718]\n"
     ]
    }
   ],
   "source": [
    "x = [10, [3.141, 20, [30, 'baz', 2.718]], 'foo']\n",
    "print(x[1][2][1][-1])\n",
    "print(x[1][2][1:])\n",
    "\n",
    "    "
   ]
  },
  {
   "cell_type": "markdown",
   "metadata": {},
   "source": [
    "###  Que 11. Extract element 20 from the above list."
   ]
  },
  {
   "cell_type": "code",
   "execution_count": 11,
   "metadata": {},
   "outputs": [
    {
     "name": "stdout",
     "output_type": "stream",
     "text": [
      "20\n"
     ]
    }
   ],
   "source": [
    "print(x[1][1])"
   ]
  },
  {
   "cell_type": "markdown",
   "metadata": {},
   "source": [
    "###  Que 12. You have a list a = [1, 2, 7, 8]\n",
    "Write a Python statement using slice assignment that will fill in\n",
    "the missing values so that a equals [1, 2, 3, 4, 5, 6, 7, 8]"
   ]
  },
  {
   "cell_type": "code",
   "execution_count": 12,
   "metadata": {},
   "outputs": [
    {
     "data": {
      "text/plain": [
       "[1, 2, 3, 4, 5, 6, 7, 8]"
      ]
     },
     "execution_count": 12,
     "metadata": {},
     "output_type": "execute_result"
    }
   ],
   "source": [
    "a = [1, 2, 7, 8]\n",
    "b = a[2:]\n",
    "b\n",
    "a[2:] = [3,4,5,6]\n",
    "a\n",
    "c = a+b\n",
    "c"
   ]
  },
  {
   "cell_type": "code",
   "execution_count": null,
   "metadata": {},
   "outputs": [],
   "source": []
  }
 ],
 "metadata": {
  "kernelspec": {
   "display_name": "Python 3",
   "language": "python",
   "name": "python3"
  },
  "language_info": {
   "codemirror_mode": {
    "name": "ipython",
    "version": 3
   },
   "file_extension": ".py",
   "mimetype": "text/x-python",
   "name": "python",
   "nbconvert_exporter": "python",
   "pygments_lexer": "ipython3",
   "version": "3.7.4"
  }
 },
 "nbformat": 4,
 "nbformat_minor": 2
}
