{
 "cells": [
  {
   "cell_type": "markdown",
   "metadata": {},
   "source": [
    "# String Solution"
   ]
  },
  {
   "cell_type": "markdown",
   "metadata": {},
   "source": [
    "### Que 1. Define different types of variables (integer, boolean,string, float, complex) and print their values and their types"
   ]
  },
  {
   "cell_type": "code",
   "execution_count": 1,
   "metadata": {},
   "outputs": [
    {
     "name": "stdout",
     "output_type": "stream",
     "text": [
      "The number is : 30\n",
      "The data type of variable number is: <class 'int'>\n"
     ]
    }
   ],
   "source": [
    "# Solution for integer\n",
    "\n",
    "num = 30\n",
    "print(\"The number is :\",num)\n",
    "print(\"The data type of variable number is:\",type(num))"
   ]
  },
  {
   "cell_type": "code",
   "execution_count": 2,
   "metadata": {},
   "outputs": [
    {
     "name": "stdout",
     "output_type": "stream",
     "text": [
      "True\n"
     ]
    },
    {
     "data": {
      "text/plain": [
       "bool"
      ]
     },
     "execution_count": 2,
     "metadata": {},
     "output_type": "execute_result"
    }
   ],
   "source": [
    "# Solution for boolean\n",
    "\n",
    "num = 9 > 8\n",
    "print(num)\n",
    "type(num)"
   ]
  },
  {
   "cell_type": "code",
   "execution_count": 3,
   "metadata": {},
   "outputs": [
    {
     "name": "stdout",
     "output_type": "stream",
     "text": [
      "The value of the variable name is: swarna\n"
     ]
    },
    {
     "data": {
      "text/plain": [
       "str"
      ]
     },
     "execution_count": 3,
     "metadata": {},
     "output_type": "execute_result"
    }
   ],
   "source": [
    "# Solution for string\n",
    "\n",
    "name = \"swarna\"\n",
    "print(\"The value of the variable name is:\",name)\n",
    "type(name)"
   ]
  },
  {
   "cell_type": "code",
   "execution_count": 4,
   "metadata": {},
   "outputs": [
    {
     "name": "stdout",
     "output_type": "stream",
     "text": [
      "The value of the variable num is: 75.4\n"
     ]
    },
    {
     "data": {
      "text/plain": [
       "float"
      ]
     },
     "execution_count": 4,
     "metadata": {},
     "output_type": "execute_result"
    }
   ],
   "source": [
    "# Solution for float\n",
    "\n",
    "var = 75.4\n",
    "print(\"The value of the variable num is:\",var)\n",
    "type(var)"
   ]
  },
  {
   "cell_type": "code",
   "execution_count": 5,
   "metadata": {},
   "outputs": [
    {
     "name": "stdout",
     "output_type": "stream",
     "text": [
      "(10+5j)\n",
      "Data type of variable complex_num is <class 'complex'>\n"
     ]
    }
   ],
   "source": [
    "# Solution for Complex\n",
    "\n",
    "complex_num = 10 + 5j\n",
    "print(complex_num)\n",
    "print(\"Data type of variable complex_num is\",type(complex_num))"
   ]
  },
  {
   "cell_type": "markdown",
   "metadata": {},
   "source": [
    "### Que 2. In the above question convert float variable into integer type and integer variable into str type.\n"
   ]
  },
  {
   "cell_type": "code",
   "execution_count": 6,
   "metadata": {},
   "outputs": [
    {
     "name": "stdout",
     "output_type": "stream",
     "text": [
      "After convertion from float to integer the value is: 75\n",
      "Data type of the variable is: <class 'int'>\n",
      "\n",
      "After convertion from integer to string the value is: 75\n",
      "Data type of the varibale is: <class 'str'>\n"
     ]
    }
   ],
   "source": [
    "#Solution float type to integer type\n",
    "\n",
    "var = int(75.5)\n",
    "print(\"After convertion from float to integer the value is:\",var)\n",
    "print(\"Data type of the variable is:\",type(var))\n",
    "\n",
    "var1 = str(var)\n",
    "print(\"\\nAfter convertion from integer to string the value is:\",var1)\n",
    "print(\"Data type of the varibale is:\",type(var1))"
   ]
  },
  {
   "cell_type": "markdown",
   "metadata": {},
   "source": [
    "### Que 3. What will you get converting “abc” into boolean ?"
   ]
  },
  {
   "cell_type": "code",
   "execution_count": 7,
   "metadata": {},
   "outputs": [
    {
     "name": "stdout",
     "output_type": "stream",
     "text": [
      "The Conversion result is: True\n"
     ]
    }
   ],
   "source": [
    "# Solution\n",
    "\n",
    "conv_str_bool = bool(\"abc\")\n",
    "print(\"The Conversion result is:\",conv_str_bool)"
   ]
  },
  {
   "cell_type": "markdown",
   "metadata": {},
   "source": [
    "### Que 4. Print the substring from index 2 to index 4 for any given string. For example (llo) from “Hello World”"
   ]
  },
  {
   "cell_type": "code",
   "execution_count": 8,
   "metadata": {},
   "outputs": [
    {
     "name": "stdout",
     "output_type": "stream",
     "text": [
      "llo\n"
     ]
    }
   ],
   "source": [
    "# Solution\n",
    "\n",
    "s = \"Hello World\"\n",
    "s = s[2:5:1]\n",
    "print(s)"
   ]
  },
  {
   "cell_type": "markdown",
   "metadata": {},
   "source": [
    "### Que 5. Write a program to check a substring in a given string. \n",
    "### For example 'e' is present in the word 'Umbrella'"
   ]
  },
  {
   "cell_type": "code",
   "execution_count": 9,
   "metadata": {},
   "outputs": [
    {
     "name": "stdout",
     "output_type": "stream",
     "text": [
      "True\n"
     ]
    }
   ],
   "source": [
    "# Solution\n",
    "\n",
    "s = \"Umbrella\"\n",
    "print('e' in s)"
   ]
  },
  {
   "cell_type": "markdown",
   "metadata": {},
   "source": [
    "### Que 6. Use the correct comparison operator to check if 5 is not equal to 10. "
   ]
  },
  {
   "cell_type": "code",
   "execution_count": 10,
   "metadata": {},
   "outputs": [
    {
     "name": "stdout",
     "output_type": "stream",
     "text": [
      "The given two numbers are different\n"
     ]
    }
   ],
   "source": [
    "n1 = 5\n",
    "n2 = 10\n",
    "if n1 != 10:\n",
    "    print(\"The given two numbers are different\")\n",
    "else:\n",
    "    print(\"The given two numbers are same\")"
   ]
  },
  {
   "cell_type": "markdown",
   "metadata": {},
   "source": [
    "### Que 7. Write a program to get a string from the user and sort the words of the string in alphabetical order. "
   ]
  },
  {
   "cell_type": "code",
   "execution_count": 11,
   "metadata": {},
   "outputs": [
    {
     "name": "stdout",
     "output_type": "stream",
     "text": [
      "Enter some string:Datafolkz is the best platform for learning Data Science\n",
      "['Datafolkz', 'is', 'the', 'best', 'platform', 'for', 'learning', 'Data', 'Science']\n",
      "\n",
      "The Sorted words are in alphabatical order:\n",
      "Data\n",
      "Datafolkz\n",
      "Science\n",
      "best\n",
      "for\n",
      "is\n",
      "learning\n",
      "platform\n",
      "the\n"
     ]
    }
   ],
   "source": [
    "# Solution\n",
    "\n",
    "strg = input(\"Enter some string:\")\n",
    "words = strg.split() # here we just split the sting into separate words\n",
    "print(words)\n",
    "\n",
    "words.sort() # Sorting the words\n",
    "print(\"\\nThe Sorted words are in alphabatical order:\")\n",
    "for word in words:\n",
    "    print(word) \n",
    "    \n"
   ]
  },
  {
   "cell_type": "markdown",
   "metadata": {},
   "source": [
    "### Que 8. Join two words using special characters like ‘ – ‘ ,’#’ "
   ]
  },
  {
   "cell_type": "code",
   "execution_count": 12,
   "metadata": {},
   "outputs": [
    {
     "name": "stdout",
     "output_type": "stream",
     "text": [
      "s-#w-#a-#r-#n-#a-#l-#a-#t-#a\n"
     ]
    }
   ],
   "source": [
    "# Solution\n",
    "\n",
    "w1 = \"swarna\"\n",
    "w2 = \"lata\"\n",
    "s = w1 + w2\n",
    "new_val = '-#'.join(s)\n",
    "print(new_val)"
   ]
  },
  {
   "cell_type": "markdown",
   "metadata": {},
   "source": [
    "### Que 9. Find all occurrences of “INDIA” in a given string ignoring the case.           \n",
    "### input_str = \"Welcome to INDIA. india is awesome. "
   ]
  },
  {
   "cell_type": "code",
   "execution_count": 13,
   "metadata": {},
   "outputs": [
    {
     "name": "stdout",
     "output_type": "stream",
     "text": [
      "2\n"
     ]
    }
   ],
   "source": [
    "# Solution\n",
    "\n",
    "input_str = \"Welcome to INDIA. india is awesome\"\n",
    "counter = input_str.count('I')\n",
    "print(counter)"
   ]
  },
  {
   "cell_type": "markdown",
   "metadata": {},
   "source": [
    "### Que 10.Replace first two ‘l’ with ‘n’ in ‘Hello World’ "
   ]
  },
  {
   "cell_type": "code",
   "execution_count": 14,
   "metadata": {},
   "outputs": [
    {
     "name": "stdout",
     "output_type": "stream",
     "text": [
      " Heno World\n"
     ]
    }
   ],
   "source": [
    "# Solution\n",
    "\n",
    "s = \" Hello World\"\n",
    "s1 = s.replace(\"ll\",\"n\")\n",
    "print(s1)"
   ]
  },
  {
   "cell_type": "markdown",
   "metadata": {},
   "source": [
    "### Que 11.Write a program that takes your full name as input and displays the abbreviations of the first and middle names except the last name which is displayed as it is. For example, if your name is Robert Brett Roser, then the output should be R.B.Roser. "
   ]
  },
  {
   "cell_type": "code",
   "execution_count": 15,
   "metadata": {},
   "outputs": [
    {
     "name": "stdout",
     "output_type": "stream",
     "text": [
      "The given string is: Swarna Lata Sahu\n",
      "After splitting the string: ['Swarna', 'Lata', 'Sahu']\n",
      "S. L. Sahu\n"
     ]
    }
   ],
   "source": [
    "# Solution\n",
    "\n",
    "name = \"Swarna Lata Sahu\"\n",
    "print(\"The given string is:\",name)\n",
    "\n",
    "sep = name.split()\n",
    "print(\"After splitting the string:\",sep)\n",
    "\n",
    "abbr_name = sep[0][0]+\". \"+sep[1][0]+\". \"+sep[2]\n",
    "print(abbr_name)\n"
   ]
  },
  {
   "cell_type": "markdown",
   "metadata": {},
   "source": [
    "### Que 12.  Write a program to check if a given string is a Palindrome.       A palindrome reads the same from front and back e.g.- aba, ccaacc, mom, etc"
   ]
  },
  {
   "cell_type": "code",
   "execution_count": 16,
   "metadata": {},
   "outputs": [
    {
     "name": "stdout",
     "output_type": "stream",
     "text": [
      "Enter a string:mom\n",
      "The given string is a pallindrome\n"
     ]
    }
   ],
   "source": [
    "# Solution\n",
    "\n",
    "strng =input(\"Enter a string:\")\n",
    "if(strng == strng[::-1]):\n",
    "    print(\"The given string is a pallindrome\")\n",
    "else:\n",
    "    print(\"The given string is not a pallindrome\")\n"
   ]
  },
  {
   "cell_type": "code",
   "execution_count": null,
   "metadata": {},
   "outputs": [],
   "source": []
  }
 ],
 "metadata": {
  "kernelspec": {
   "display_name": "Python 3",
   "language": "python",
   "name": "python3"
  },
  "language_info": {
   "codemirror_mode": {
    "name": "ipython",
    "version": 3
   },
   "file_extension": ".py",
   "mimetype": "text/x-python",
   "name": "python",
   "nbconvert_exporter": "python",
   "pygments_lexer": "ipython3",
   "version": "3.7.4"
  }
 },
 "nbformat": 4,
 "nbformat_minor": 2
}
