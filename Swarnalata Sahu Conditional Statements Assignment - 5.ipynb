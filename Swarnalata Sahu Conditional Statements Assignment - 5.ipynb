{
 "cells": [
  {
   "cell_type": "markdown",
   "metadata": {},
   "source": [
    "# Conditional Statement Solution"
   ]
  },
  {
   "cell_type": "markdown",
   "metadata": {},
   "source": [
    "### Que1.Take two integer values from the user and print greatest among them. "
   ]
  },
  {
   "cell_type": "code",
   "execution_count": 1,
   "metadata": {},
   "outputs": [
    {
     "name": "stdout",
     "output_type": "stream",
     "text": [
      "Enter the first number :7\n",
      "Enter the second number :9\n",
      "\n",
      "The Greater Number is number2 & the value is: 9\n"
     ]
    }
   ],
   "source": [
    "# Solution\n",
    "\n",
    "n1 = int(input(\"Enter the first number :\"))\n",
    "n2 = int(input(\"Enter the second number :\"))\n",
    "if n1 > n2:\n",
    "    print(\"\\nThe Greater Number is number1 & the value is:\",n1)\n",
    "else:\n",
    "    print(\"\\nThe Greater Number is number2 & the value is:\",n2)\n"
   ]
  },
  {
   "cell_type": "markdown",
   "metadata": {},
   "source": [
    "### Que2.Write a program that reads an integer from the user. Then your program should display a message indicating whether the integer is even or odd. "
   ]
  },
  {
   "cell_type": "code",
   "execution_count": 2,
   "metadata": {},
   "outputs": [
    {
     "name": "stdout",
     "output_type": "stream",
     "text": [
      "Enter a number:34\n",
      "\n",
      "The number is Even\n"
     ]
    }
   ],
   "source": [
    "# Solution\n",
    "\n",
    "num = int(input(\"Enter a number:\"))\n",
    "if(num % 2 == 0):\n",
    "    print(\"\\nThe number is Even\")\n",
    "else:\n",
    "    print(\"The number is Odd\")\n"
   ]
  },
  {
   "cell_type": "markdown",
   "metadata": {},
   "source": [
    "### Que3.Create a program that reads a letter of the alphabet from the user. If the user enters a, e, i, o or u then your program should display a message indicating that the entered letter is a vowel. If the user enters y then your program should display a message indicating that sometimes y is a vowel, and sometimes y is a consonant. Otherwise your program should display a message indicating that the letter is a consonant. "
   ]
  },
  {
   "cell_type": "code",
   "execution_count": 3,
   "metadata": {},
   "outputs": [
    {
     "name": "stdout",
     "output_type": "stream",
     "text": [
      "Input a letter of the alphabet: i\n",
      "\n",
      "i - Letter is a vowel.\n"
     ]
    }
   ],
   "source": [
    "# Solution\n",
    "\n",
    "letter = input(\"Input a letter of the alphabet: \")\n",
    "\n",
    "if letter in ('a', 'e', 'i', 'o', 'u'):\n",
    "    print(\"\\n%s - Letter is a vowel.\" %letter)\n",
    "    \n",
    "elif letter == 'y':\n",
    "    print(\"\\nSometimes letter y is vowel, sometimes y is consonant.\")\n",
    "\n",
    "else:\n",
    "    print(\"\\n%s - Letter is a consonant.\" %letter) "
   ]
  },
  {
   "cell_type": "markdown",
   "metadata": {},
   "source": [
    "### Que4. A triangle can be classified based on the lengths of its sides as equilateral, isosceles or scalene. All three sides of an equilateral triangle have the same length. An isosceles triangle has two sides that are the same length, and a third side that is a different length. If all of the sides have different lengths then the triangle is scalene. Write a program that reads the lengths of the three sides of a triangle from the user. Then display a message that states the triangle’s type. \n",
    " "
   ]
  },
  {
   "cell_type": "code",
   "execution_count": 4,
   "metadata": {},
   "outputs": [
    {
     "name": "stdout",
     "output_type": "stream",
     "text": [
      "Enter the lengths of the triangle sides: \n",
      "a: 5\n",
      "b: 7\n",
      "c: 8\n",
      "Scalene triangle\n"
     ]
    }
   ],
   "source": [
    "# Solution\n",
    "\n",
    "print(\"Enter the lengths of the triangle sides: \")\n",
    "a = int(input(\"a: \"))\n",
    "b = int(input(\"b: \"))\n",
    "c = int(input(\"c: \"))\n",
    "\n",
    "if a == b == c:\n",
    "    print(\"Equilateral triangle\")\n",
    "    \n",
    "elif a == b or b == c or c == a:\n",
    "    print(\"Isosceles triangle\")\n",
    "    \n",
    "else:\n",
    "    print(\"Scalene triangle\")\n"
   ]
  },
  {
   "cell_type": "markdown",
   "metadata": {},
   "source": [
    "### Que5. Write a program that determines the name of a shape from its number of sides. Read the number of sides from the user and then report the appropriate name as part of a meaningful message. Your program should support shapes with anywhere from 3 up to (and including) 10 sides. If a number of sides outside of this range is entered then your program should display an appropriate error message. "
   ]
  },
  {
   "cell_type": "code",
   "execution_count": 5,
   "metadata": {},
   "outputs": [
    {
     "name": "stdout",
     "output_type": "stream",
     "text": [
      "Number of side:6\n",
      "Hexagon\n"
     ]
    }
   ],
   "source": [
    "# Solution\n",
    "\n",
    "side = int(input(\"Number of side:\"))\n",
    "if side < 3:\n",
    "    print(\"Entered sides is not valid\")\n",
    "elif side == 3:\n",
    "    print(\"Triangle\")\n",
    "elif side == 4:\n",
    "    print(\"Rectanle or Square or Rombus\")\n",
    "elif side == 5:\n",
    "    print(\"Pentagon\")\n",
    "elif side == 6:\n",
    "    print(\"Hexagon\")\n",
    "elif side == 7:\n",
    "    print(\"Heptagon\")\n",
    "elif side == 8:\n",
    "    print(\"Octagon\") \n",
    "elif side == 9:\n",
    "    print(\"Nonagon\")\n",
    "elif side == 10:\n",
    "    print(\"Decagon\")\n",
    "else:\n",
    "    print(\"Entered side is out of range\")"
   ]
  },
  {
   "cell_type": "markdown",
   "metadata": {},
   "source": [
    "### Que6. A shop will give a discount of 10% if the cost of the purchased quantity is more than 1000. Ask the user for quantity, suppose, one unit will cost 100. Judge and print total cost for user. "
   ]
  },
  {
   "cell_type": "code",
   "execution_count": 6,
   "metadata": {},
   "outputs": [
    {
     "name": "stdout",
     "output_type": "stream",
     "text": [
      "Enter the quantity:1500\n",
      "Total Cost is 135000.0\n"
     ]
    }
   ],
   "source": [
    "# Solution\n",
    "\n",
    "quantity = int(input(\"Enter the quantity:\"))\n",
    "if quantity * 100 > 1000:\n",
    "    print(\"Total Cost is\",(quantity * 100) - (.1 *quantity *100))\n",
    "else:\n",
    "    print(\"Total Cost is\",quantity * 100)"
   ]
  },
  {
   "cell_type": "markdown",
   "metadata": {},
   "source": [
    "### Que7.Take input of age of 3 people by user and determine oldest and youngest among them. "
   ]
  },
  {
   "cell_type": "code",
   "execution_count": 7,
   "metadata": {},
   "outputs": [
    {
     "name": "stdout",
     "output_type": "stream",
     "text": [
      "x= Enter the 1st person age:34\n",
      "y= Enter the 2nd person age:12\n",
      "z= Enter the 3rd person age:67\n",
      "z is the oldest and y is the youngest\n"
     ]
    }
   ],
   "source": [
    "# Solution\n",
    "\n",
    "x=input(\"x= Enter the 1st person age:\")\n",
    "y=input(\"y= Enter the 2nd person age:\")\n",
    "z=input(\"z= Enter the 3rd person age:\")\n",
    "\n",
    "if int(x) > int(y) and int(x) > int(z):\n",
    "    if int(y) > int(z):\n",
    "        print(\"x is oldest and z is youngest\")\n",
    "    elif int(y) < int(z):\n",
    "        print(\"x is oldest and y is youngest\")\n",
    "        \n",
    "if int(y) > int(x) and int(y) > int(z):\n",
    "    if int(x)>int(z):\n",
    "        print(\"y is the oldest and z is the youngest\")\n",
    "    elif int(x)<int(z):\n",
    "        print(\"y is the oldest and x is the yongest\")\n",
    "        \n",
    "if int(z) > int(x) and int(z) > int(y):\n",
    "    if int(y) > int(x):\n",
    "        print(\"z is the oldest and x is the youngest\")\n",
    "    elif int(y) < int(x):\n",
    "        print(\"z is the oldest and y is the youngest\")"
   ]
  },
  {
   "cell_type": "markdown",
   "metadata": {},
   "source": [
    "### Que8.A company decided to give a bonus of 5% to an employee if his/her year of service is more than 5 years. Ask user for their salary and year of service and print the net bonus amount. "
   ]
  },
  {
   "cell_type": "code",
   "execution_count": 8,
   "metadata": {},
   "outputs": [
    {
     "name": "stdout",
     "output_type": "stream",
     "text": [
      "Enter the year of service:6\n",
      "Enter the salary:60000\n",
      "\n",
      " Net bonus amount is: 3000.0\n"
     ]
    }
   ],
   "source": [
    "# Solution\n",
    "\n",
    "yos = int(input(\"Enter the year of service:\"))\n",
    "sal = int(input(\"Enter the salary:\"))\n",
    "\n",
    "if yos > 5:\n",
    "    bonus = sal * 5/100\n",
    "    print(\"\\n Net bonus amount is:\",bonus)\n",
    "else:\n",
    "    print(\"\\n No Bonus\")"
   ]
  },
  {
   "cell_type": "markdown",
   "metadata": {},
   "source": [
    " ### Que9.Write a program to check if a year is leap year or not. If a year is divisible by 4 then it is leap year but if the year is a century year like 2000, 1900, 2100 then it must be divisible by 400. "
   ]
  },
  {
   "cell_type": "code",
   "execution_count": 9,
   "metadata": {},
   "outputs": [
    {
     "name": "stdout",
     "output_type": "stream",
     "text": [
      "Enter a year: 2000\n",
      "Year is Leap year\n"
     ]
    }
   ],
   "source": [
    "# Solution\n",
    "\n",
    "year = int(input(\"Enter a year: \"))\n",
    "\n",
    "if (year % 4) == 0:\n",
    "    if(year % 400) == 0:\n",
    "        print(\"Year is Leap year\")\n",
    "    else:\n",
    "        print(\"Year is not leap year\")\n",
    "elif (year % 100) == 0:\n",
    "    print(\"Year is century year\")\n",
    "else:\n",
    "    print(\"Not in the list of Leap & Century year\")\n",
    "    "
   ]
  },
  {
   "cell_type": "markdown",
   "metadata": {},
   "source": [
    "### Que10. Accept d1 and d2 as input. First, check to see that they are in the proper range for dice. If not, print a message. Otherwise, determine the outcome if this is the come out roll. If the sum is 7 or 11, print the winner. If the sum is 2, 3 or 12, print loser. Otherwise print the point. "
   ]
  },
  {
   "cell_type": "code",
   "execution_count": 10,
   "metadata": {},
   "outputs": [
    {
     "name": "stdout",
     "output_type": "stream",
     "text": [
      "1\n",
      "6\n",
      "You are the winner!\n"
     ]
    }
   ],
   "source": [
    "# Solution\n",
    "\n",
    "import random  \n",
    "\n",
    "\n",
    "d1 = random.randint(1, 6)\n",
    "print(d1)\n",
    "\n",
    "d2 = random.randint(1, 6)\n",
    "print(d2)\n",
    "\n",
    "sum = d1 + d2\n",
    "    \n",
    "if sum == 7 or sum == 11:\n",
    "    print(\"You are the winner!\")\n",
    "        \n",
    "elif sum == 2 or sum == 3 or sum == 12:\n",
    "    print (\"Sorry, you are the looser.\")\n",
    "    \n",
    "else:\n",
    "    print (\"The point is now\",sum,)\n"
   ]
  },
  {
   "cell_type": "markdown",
   "metadata": {},
   "source": [
    "### Que11. Write a python program to display the number of days in a month name from the given list of months or month number entered by user. "
   ]
  },
  {
   "cell_type": "code",
   "execution_count": 11,
   "metadata": {},
   "outputs": [
    {
     "name": "stdout",
     "output_type": "stream",
     "text": [
      "List of the months: January, February, March, April, May, June, July, August, September, October, November, December\n",
      "Input the name of Month: December\n",
      "\n",
      " Number of days: 31 day\n"
     ]
    }
   ],
   "source": [
    "# Solution\n",
    "\n",
    "print(\"List of the months: January, February, March, April, May, June, July, August, September, October, November, December\")\n",
    "month_name = input(\"Input the name of Month: \")\n",
    "\n",
    "if month_name == \"February\":\n",
    "    print(\"\\n Number of days: 28/29 days\")\n",
    "    \n",
    "elif month_name in (\"April\", \"June\", \"September\", \"November\"):\n",
    "    print(\"\\n Number of days: 30 days\")\n",
    "    \n",
    "elif month_name in (\"January\", \"March\", \"May\", \"July\", \"August\", \"October\", \"December\"):\n",
    "    print(\"\\n Number of days: 31 day\")\n",
    "    \n",
    "else:\n",
    "    print(\"\\n Month name is Wrong....\") \n"
   ]
  },
  {
   "cell_type": "markdown",
   "metadata": {},
   "source": [
    "### Que12. Write a Python program to get next day of a given date. "
   ]
  },
  {
   "cell_type": "code",
   "execution_count": 12,
   "metadata": {},
   "outputs": [
    {
     "name": "stdout",
     "output_type": "stream",
     "text": [
      "Input a year: 2020\n",
      "Input a month [1-12]: 5\n",
      "Input a day [1-31]: 12\n",
      "The next date is [yyyy-mm-dd] 2020-5-13.\n"
     ]
    }
   ],
   "source": [
    "# Solution\n",
    "\n",
    "year = int(input(\"Input a year: \"))\n",
    "\n",
    "if (year % 400 == 0):\n",
    "    leap_year = True\n",
    "elif (year % 100 == 0):\n",
    "    leap_year = False\n",
    "elif (year % 4 == 0):\n",
    "    leap_year = True\n",
    "else:\n",
    "    leap_year = False\n",
    "\n",
    "month = int(input(\"Input a month [1-12]: \"))\n",
    "\n",
    "if month in (1, 3, 5, 7, 8, 10, 12):\n",
    "    month_length = 31\n",
    "elif month == 2:\n",
    "    if leap_year:\n",
    "        month_length = 29\n",
    "    else:\n",
    "        month_length = 28\n",
    "else:\n",
    "    month_length = 30\n",
    "\n",
    "\n",
    "day = int(input(\"Input a day [1-31]: \"))\n",
    "\n",
    "if day < month_length:\n",
    "    day += 1\n",
    "else:\n",
    "    day = 1\n",
    "    if month == 12:\n",
    "        month = 1\n",
    "        year += 1\n",
    "    else:\n",
    "        month += 1\n",
    "print(\"The next date is [yyyy-mm-dd] %d-%d-%d.\" % (year, month, day))"
   ]
  },
  {
   "cell_type": "code",
   "execution_count": null,
   "metadata": {},
   "outputs": [],
   "source": []
  }
 ],
 "metadata": {
  "kernelspec": {
   "display_name": "Python 3",
   "language": "python",
   "name": "python3"
  },
  "language_info": {
   "codemirror_mode": {
    "name": "ipython",
    "version": 3
   },
   "file_extension": ".py",
   "mimetype": "text/x-python",
   "name": "python",
   "nbconvert_exporter": "python",
   "pygments_lexer": "ipython3",
   "version": "3.7.4"
  }
 },
 "nbformat": 4,
 "nbformat_minor": 2
}
